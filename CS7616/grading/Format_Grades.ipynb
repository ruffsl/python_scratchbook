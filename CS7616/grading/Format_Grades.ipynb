{
 "cells": [
  {
   "cell_type": "markdown",
   "metadata": {},
   "source": [
    "# Format Grades\n",
    "Read grading csv file and format html feedback for uploading back into Tsquare"
   ]
  },
  {
   "cell_type": "code",
   "execution_count": 1,
   "metadata": {
    "collapsed": true
   },
   "outputs": [],
   "source": [
    "import os\n",
    "import pandas as pd\n",
    "pd.options.mode.chained_assignment = None # hide pandas copy warning"
   ]
  },
  {
   "cell_type": "code",
   "execution_count": 2,
   "metadata": {
    "collapsed": true
   },
   "outputs": [],
   "source": [
    "dir_path = '/home/ubuntu/Downloads/HWX/HWX'\n",
    "csv_path = '/home/ubuntu/Downloads/HWX/HWX_Form.csv'\n",
    "grades_file = os.path.join(dir_path, 'grades.csv')"
   ]
  },
  {
   "cell_type": "code",
   "execution_count": 3,
   "metadata": {
    "collapsed": false
   },
   "outputs": [],
   "source": [
    "df = pd.read_csv(csv_path)\n",
    "df = df.drop(['Timestamp','Signature'], 1)\n",
    "grades_df = pd.read_csv(grades_file, skiprows=2)"
   ]
  },
  {
   "cell_type": "code",
   "execution_count": 4,
   "metadata": {
    "collapsed": false
   },
   "outputs": [],
   "source": [
    "folders = pd.Series(os.listdir(dir_path))\n",
    "submissions = df['Submission ID']\n",
    "\n",
    "for submission_ix, submission in submissions.iteritems():\n",
    "    for folder_ix, folder in folders.iteritems():\n",
    "        if submission in folder:\n",
    "            feedback_file = os.path.join(dir_path, folder, 'comments.txt')\n",
    "            df.ix[[submission_ix]].to_html(feedback_file, index=False)\n",
    "            grade_ix = grades_df[grades_df['ID'] == submission].index.tolist()\n",
    "            grades_df['grade'][grade_ix] = df['Total'][submission_ix]\n",
    "#             print(folder, '->', submission)"
   ]
  },
  {
   "cell_type": "code",
   "execution_count": 5,
   "metadata": {
    "collapsed": false
   },
   "outputs": [],
   "source": [
    "with open(grades_file, \"w\") as file:\n",
    "    file.write(\"HWX,Points\\n\\n\")\n",
    "    grades_df.to_csv(file, index=False, float_format=\"%.0f\") # make sure grades are saved as integers"
   ]
  }
 ],
 "metadata": {
  "kernelspec": {
   "display_name": "Python 3",
   "language": "python",
   "name": "python3"
  },
  "language_info": {
   "codemirror_mode": {
    "name": "ipython",
    "version": 3
   },
   "file_extension": ".py",
   "mimetype": "text/x-python",
   "name": "python",
   "nbconvert_exporter": "python",
   "pygments_lexer": "ipython3",
   "version": "3.5.1"
  }
 },
 "nbformat": 4,
 "nbformat_minor": 0
}
