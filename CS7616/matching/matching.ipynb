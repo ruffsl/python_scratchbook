{
 "cells": [
  {
   "cell_type": "code",
   "execution_count": 1,
   "metadata": {
    "collapsed": true
   },
   "outputs": [],
   "source": [
    "import pandas as pd\n",
    "import networkx as nx\n",
    "import matplotlib.pyplot as plt\n",
    "\n",
    "%matplotlib inline"
   ]
  },
  {
   "cell_type": "code",
   "execution_count": 2,
   "metadata": {
    "collapsed": false
   },
   "outputs": [
    {
     "data": {
      "text/html": [
       "<div style=\"max-height:1000px;max-width:1500px;overflow:auto;\">\n",
       "<table border=\"1\" class=\"dataframe\">\n",
       "  <thead>\n",
       "    <tr style=\"text-align: right;\">\n",
       "      <th></th>\n",
       "      <th>Timestamp</th>\n",
       "      <th>A</th>\n",
       "      <th>B</th>\n",
       "      <th>C</th>\n",
       "      <th>D</th>\n",
       "      <th>E</th>\n",
       "      <th>First Name</th>\n",
       "      <th>Last Name</th>\n",
       "      <th>GTID</th>\n",
       "    </tr>\n",
       "  </thead>\n",
       "  <tbody>\n",
       "    <tr>\n",
       "      <th>0</th>\n",
       "      <td> 1/7/2016 18:25:10</td>\n",
       "      <td> 10</td>\n",
       "      <td> 9</td>\n",
       "      <td> 8</td>\n",
       "      <td> 7</td>\n",
       "      <td> 6</td>\n",
       "      <td> 1</td>\n",
       "      <td> 0</td>\n",
       "      <td> 1</td>\n",
       "    </tr>\n",
       "    <tr>\n",
       "      <th>1</th>\n",
       "      <td> 1/7/2016 18:25:11</td>\n",
       "      <td>  9</td>\n",
       "      <td> 8</td>\n",
       "      <td> 7</td>\n",
       "      <td> 6</td>\n",
       "      <td> 5</td>\n",
       "      <td> 2</td>\n",
       "      <td> 0</td>\n",
       "      <td> 2</td>\n",
       "    </tr>\n",
       "    <tr>\n",
       "      <th>2</th>\n",
       "      <td> 1/7/2016 18:25:12</td>\n",
       "      <td>  8</td>\n",
       "      <td> 7</td>\n",
       "      <td> 6</td>\n",
       "      <td> 5</td>\n",
       "      <td> 4</td>\n",
       "      <td> 3</td>\n",
       "      <td> 0</td>\n",
       "      <td> 3</td>\n",
       "    </tr>\n",
       "    <tr>\n",
       "      <th>3</th>\n",
       "      <td> 1/7/2016 18:25:13</td>\n",
       "      <td>  7</td>\n",
       "      <td> 6</td>\n",
       "      <td> 5</td>\n",
       "      <td> 4</td>\n",
       "      <td> 3</td>\n",
       "      <td> 4</td>\n",
       "      <td> 0</td>\n",
       "      <td> 4</td>\n",
       "    </tr>\n",
       "    <tr>\n",
       "      <th>4</th>\n",
       "      <td> 1/7/2016 18:25:14</td>\n",
       "      <td>  6</td>\n",
       "      <td> 5</td>\n",
       "      <td> 4</td>\n",
       "      <td> 3</td>\n",
       "      <td> 2</td>\n",
       "      <td> 5</td>\n",
       "      <td> 1</td>\n",
       "      <td> 5</td>\n",
       "    </tr>\n",
       "  </tbody>\n",
       "</table>\n",
       "<p>5 rows × 9 columns</p>\n",
       "</div>"
      ],
      "text/plain": [
       "           Timestamp   A  B  C  D  E  First Name  Last Name  GTID\n",
       "0  1/7/2016 18:25:10  10  9  8  7  6           1          0     1\n",
       "1  1/7/2016 18:25:11   9  8  7  6  5           2          0     2\n",
       "2  1/7/2016 18:25:12   8  7  6  5  4           3          0     3\n",
       "3  1/7/2016 18:25:13   7  6  5  4  3           4          0     4\n",
       "4  1/7/2016 18:25:14   6  5  4  3  2           5          1     5\n",
       "\n",
       "[5 rows x 9 columns]"
      ]
     },
     "execution_count": 2,
     "metadata": {},
     "output_type": "execute_result"
    }
   ],
   "source": [
    "response_file = \"data/formresponses.csv\"\n",
    "df = pd.read_csv(response_file)\n",
    "df"
   ]
  },
  {
   "cell_type": "code",
   "execution_count": 3,
   "metadata": {
    "collapsed": false
   },
   "outputs": [],
   "source": [
    "G = nx.Graph()\n",
    "G.add_nodes_from(df['GTID'], bipartite=1)\n",
    "\n",
    "papers = list(df.keys())\n",
    "keys = ['Timestamp','First Name','Last Name','GTID']\n",
    "papers = [x for x in papers if x not in keys]\n",
    "G.add_nodes_from(papers, bipartite=0)"
   ]
  },
  {
   "cell_type": "code",
   "execution_count": 4,
   "metadata": {
    "collapsed": false
   },
   "outputs": [],
   "source": [
    "for index, row in df.iterrows():\n",
    "    for paper in papers:\n",
    "        G.add_weighted_edges_from([(row['GTID'],paper,row[paper])])"
   ]
  },
  {
   "cell_type": "code",
   "execution_count": 5,
   "metadata": {
    "collapsed": false
   },
   "outputs": [
    {
     "data": {
      "image/png": "[encoded data removed]",
      "text/plain": [
       "<matplotlib.figure.Figure at 0x7f70824cce90>"
      ]
     },
     "metadata": {},
     "output_type": "display_data"
    }
   ],
   "source": [
    "X, Y = nx.bipartite.sets(G)\n",
    "pos = dict()\n",
    "pos.update( (n, (1, i)) for i, n in enumerate(X) ) # put nodes from X at x=1\n",
    "pos.update( (n, (2, i)) for i, n in enumerate(Y) ) # put nodes from Y at x=2\n",
    "\n",
    "edge_width = []\n",
    "edge_colors = []\n",
    "edge_cmap = plt.cm.summer_r\n",
    "\n",
    "for (u,v,d) in G.edges(data=True):\n",
    "    edge_width.append(d['weight'])\n",
    "    edge_colors.append(d['weight'])\n",
    "\n",
    "nx.draw(G, pos=pos, width = edge_width, edge_color=edge_colors, with_labels=True, edge_cmap=edge_cmap)\n",
    "plt.show()"
   ]
  },
  {
   "cell_type": "code",
   "execution_count": 13,
   "metadata": {
    "collapsed": false
   },
   "outputs": [],
   "source": [
    "assignments = nx.max_weight_matching(G, maxcardinality=False)\n",
    "assigned = []\n",
    "for index, row in df.iterrows():\n",
    "    assigned.append(assignments[row['GTID']])\n",
    "df['Assigned'] = pd.Series(assigned, index=df.index)"
   ]
  },
  {
   "cell_type": "code",
   "execution_count": 14,
   "metadata": {
    "collapsed": false
   },
   "outputs": [
    {
     "data": {
      "text/html": [
       "<div style=\"max-height:1000px;max-width:1500px;overflow:auto;\">\n",
       "<table border=\"1\" class=\"dataframe\">\n",
       "  <thead>\n",
       "    <tr style=\"text-align: right;\">\n",
       "      <th></th>\n",
       "      <th>Timestamp</th>\n",
       "      <th>A</th>\n",
       "      <th>B</th>\n",
       "      <th>C</th>\n",
       "      <th>D</th>\n",
       "      <th>E</th>\n",
       "      <th>First Name</th>\n",
       "      <th>Last Name</th>\n",
       "      <th>GTID</th>\n",
       "      <th>Assigned</th>\n",
       "    </tr>\n",
       "  </thead>\n",
       "  <tbody>\n",
       "    <tr>\n",
       "      <th>0</th>\n",
       "      <td> 1/7/2016 18:25:10</td>\n",
       "      <td> 10</td>\n",
       "      <td> 9</td>\n",
       "      <td> 8</td>\n",
       "      <td> 7</td>\n",
       "      <td> 6</td>\n",
       "      <td> 1</td>\n",
       "      <td> 0</td>\n",
       "      <td> 1</td>\n",
       "      <td> A</td>\n",
       "    </tr>\n",
       "    <tr>\n",
       "      <th>1</th>\n",
       "      <td> 1/7/2016 18:25:11</td>\n",
       "      <td>  9</td>\n",
       "      <td> 8</td>\n",
       "      <td> 7</td>\n",
       "      <td> 6</td>\n",
       "      <td> 5</td>\n",
       "      <td> 2</td>\n",
       "      <td> 0</td>\n",
       "      <td> 2</td>\n",
       "      <td> B</td>\n",
       "    </tr>\n",
       "    <tr>\n",
       "      <th>2</th>\n",
       "      <td> 1/7/2016 18:25:12</td>\n",
       "      <td>  8</td>\n",
       "      <td> 7</td>\n",
       "      <td> 6</td>\n",
       "      <td> 5</td>\n",
       "      <td> 4</td>\n",
       "      <td> 3</td>\n",
       "      <td> 0</td>\n",
       "      <td> 3</td>\n",
       "      <td> C</td>\n",
       "    </tr>\n",
       "    <tr>\n",
       "      <th>3</th>\n",
       "      <td> 1/7/2016 18:25:13</td>\n",
       "      <td>  7</td>\n",
       "      <td> 6</td>\n",
       "      <td> 5</td>\n",
       "      <td> 4</td>\n",
       "      <td> 3</td>\n",
       "      <td> 4</td>\n",
       "      <td> 0</td>\n",
       "      <td> 4</td>\n",
       "      <td> D</td>\n",
       "    </tr>\n",
       "    <tr>\n",
       "      <th>4</th>\n",
       "      <td> 1/7/2016 18:25:14</td>\n",
       "      <td>  6</td>\n",
       "      <td> 5</td>\n",
       "      <td> 4</td>\n",
       "      <td> 3</td>\n",
       "      <td> 2</td>\n",
       "      <td> 5</td>\n",
       "      <td> 1</td>\n",
       "      <td> 5</td>\n",
       "      <td> E</td>\n",
       "    </tr>\n",
       "  </tbody>\n",
       "</table>\n",
       "<p>5 rows × 10 columns</p>\n",
       "</div>"
      ],
      "text/plain": [
       "           Timestamp   A  B  C  D  E  First Name  Last Name  GTID Assigned\n",
       "0  1/7/2016 18:25:10  10  9  8  7  6           1          0     1        A\n",
       "1  1/7/2016 18:25:11   9  8  7  6  5           2          0     2        B\n",
       "2  1/7/2016 18:25:12   8  7  6  5  4           3          0     3        C\n",
       "3  1/7/2016 18:25:13   7  6  5  4  3           4          0     4        D\n",
       "4  1/7/2016 18:25:14   6  5  4  3  2           5          1     5        E\n",
       "\n",
       "[5 rows x 10 columns]"
      ]
     },
     "execution_count": 14,
     "metadata": {},
     "output_type": "execute_result"
    }
   ],
   "source": [
    "df"
   ]
  },
  {
   "cell_type": "code",
   "execution_count": null,
   "metadata": {
    "collapsed": true
   },
   "outputs": [],
   "source": []
  }
 ],
 "metadata": {
  "kernelspec": {
   "display_name": "Python 2",
   "language": "python",
   "name": "python2"
  },
  "language_info": {
   "codemirror_mode": {
    "name": "ipython",
    "version": 2
   },
   "file_extension": ".py",
   "mimetype": "text/x-python",
   "name": "python",
   "nbconvert_exporter": "python",
   "pygments_lexer": "ipython2",
   "version": "2.7.6"
  }
 },
 "nbformat": 4,
 "nbformat_minor": 0
}
